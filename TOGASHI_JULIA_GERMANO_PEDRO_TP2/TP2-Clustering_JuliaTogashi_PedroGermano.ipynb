{
 "cells": [
  {
   "cell_type": "markdown",
   "metadata": {},
   "source": [
    "<h1>TP2</h1>\n",
    "<h3>Júlia Togashi de Miranda</h3>\n",
    "<h3>Pedro Germano Almeida Machado</h3>"
   ]
  },
  {
   "cell_type": "code",
   "execution_count": 65,
   "metadata": {},
   "outputs": [],
   "source": [
    "from sklearn.cluster import KMeans\n",
    "import numpy as np\n",
    "import csv\n",
    "import math\n",
    "import matplotlib.pyplot as plt"
   ]
  },
  {
   "cell_type": "code",
   "execution_count": 109,
   "metadata": {},
   "outputs": [],
   "source": [
    "stocks=[]\n",
    "stocks_names=[]\n",
    "file=open(\"data.csv\",newline='')\n",
    "csv_reader = csv.reader(file)\n",
    "for line in csv_reader:\n",
    "    stocks.append(line)\n",
    "del stocks[0]\n",
    "for i in stocks:\n",
    "    stocks_names.append(i[0])\n",
    "    del i[0]\n",
    "    \n",
    "S = np.array(stocks)"
   ]
  },
  {
   "cell_type": "code",
   "execution_count": 110,
   "metadata": {},
   "outputs": [],
   "source": [
    "kmeans = KMeans().fit(S)"
   ]
  },
  {
   "cell_type": "code",
   "execution_count": 111,
   "metadata": {
    "scrolled": true
   },
   "outputs": [
    {
     "name": "stdout",
     "output_type": "stream",
     "text": [
      "1587.5403333449956\n"
     ]
    }
   ],
   "source": [
    "#EXERCISE 1\n",
    "def SSE(S,kmeans):\n",
    "    SSE=0.0\n",
    "    clusters=kmeans.labels_\n",
    "    centers=kmeans.cluster_centers_\n",
    "    for i in range(0,len(S)):\n",
    "        point=S[i]\n",
    "        c=clusters[i]\n",
    "        m=centers[c]\n",
    "        sum=0.0\n",
    "        for x in range(0,len(point)):\n",
    "            sum=sum+(m[x]-float(point[x]))**2\n",
    "        SSE=SSE+sum\n",
    "    return SSE\n",
    "        \n",
    "print(SSE(S,kmeans))       "
   ]
  },
  {
   "cell_type": "markdown",
   "metadata": {},
   "source": [
    "<h2>Question 1</h2>\n",
    "\n",
    "<blockquote>Above we have the implementation of the Sum of Squared Errors (SSE).\n",
    "\n",
    "We enter the k-means result and the numpy array that the k-means was computed on. We chose to do it like that because we need the points, and so that if we want to change the parameters of k-means, we wouldn’t need to do this inside the function.\n",
    "\n",
    "So, the first thing we do is get the k-means labels (cluster to which each point belongs to) and the centroids. Then, for each point in our entry np.array, we get it’s coordinate, and the coordinate of the centroid of the cluster that it belongs to. Now we just do the operation dist^2(mi,x), and sum it for all points.\n",
    "Using the default values of the parameters for k-means, as demanded, that is, k=8; init='k-means++'; n_init=10; max_iter=300; tol=0.0001 we got as result SSE= 1587.5403333449956.\n",
    "\n",
    "Below, just out of curiosity we run the SSE for different numbers of K. As expected, increasing the number of clusters decreases the SSE. We couldn’t although find an “elbow” in the graph, that is, a “good” number of k, that is a good trade-off between the SSE and the number of cluster (interpretability of the results)</blockquote>"
   ]
  },
  {
   "cell_type": "code",
   "execution_count": 94,
   "metadata": {},
   "outputs": [
    {
     "data": {
      "text/plain": [
       "[<matplotlib.lines.Line2D at 0x2295fb2b3c8>]"
      ]
     },
     "execution_count": 94,
     "metadata": {},
     "output_type": "execute_result"
    },
    {
     "data": {
      "image/png": "[encoded data removed]",
      "text/plain": [
       "<Figure size 432x288 with 1 Axes>"
      ]
     },
     "metadata": {
      "needs_background": "light"
     },
     "output_type": "display_data"
    }
   ],
   "source": [
    "sses=[]\n",
    "for i in range(1,len(S)+1):\n",
    "    kmeans = KMeans(n_clusters=i).fit(S)\n",
    "    SSE=0.0\n",
    "    clusters=kmeans.labels_\n",
    "    centers=kmeans.cluster_centers_\n",
    "    for i in range(0,len(S)):\n",
    "        point=S[i]\n",
    "        c=clusters[i]\n",
    "        m=centers[c]\n",
    "        sum=0.0\n",
    "        for x in range(0,len(point)):\n",
    "            sum=sum+(m[x]-float(point[x]))**2\n",
    "        SSE=SSE+sum\n",
    "    sses.append(SSE)\n",
    "plt.plot(sses)"
   ]
  },
  {
   "cell_type": "code",
   "execution_count": 145,
   "metadata": {},
   "outputs": [
    {
     "name": "stdout",
     "output_type": "stream",
     "text": [
      "1609.6985496896573\n",
      "1541.53624607167\n",
      "1520.0954043453737\n",
      "1508.434119398986\n"
     ]
    }
   ],
   "source": [
    "kmeans = KMeans(n_init=10).fit(S)\n",
    "print(SSE(S,kmeans))\n",
    "kmeans = KMeans(n_init=100).fit(S)\n",
    "print(SSE(S,kmeans))\n",
    "kmeans = KMeans(n_init=1000).fit(S)\n",
    "print(SSE(S,kmeans))\n",
    "kmeans = KMeans(n_init=10000).fit(S)\n",
    "print(SSE(S,kmeans))"
   ]
  },
  {
   "cell_type": "code",
   "execution_count": 147,
   "metadata": {},
   "outputs": [
    {
     "name": "stdout",
     "output_type": "stream",
     "text": [
      "1562.1862172090503\n",
      "1588.271661942355\n",
      "1562.3083917823571\n",
      "1522.2886112987594\n"
     ]
    }
   ],
   "source": [
    "kmeans = KMeans(max_iter=300).fit(S)\n",
    "print(SSE(S,kmeans))\n",
    "kmeans = KMeans(max_iter=1000).fit(S)\n",
    "print(SSE(S,kmeans))\n",
    "kmeans = KMeans(max_iter=5000).fit(S)\n",
    "print(SSE(S,kmeans))\n",
    "kmeans = KMeans(max_iter=10000).fit(S)\n",
    "print(SSE(S,kmeans))"
   ]
  },
  {
   "cell_type": "code",
   "execution_count": 148,
   "metadata": {},
   "outputs": [
    {
     "name": "stdout",
     "output_type": "stream",
     "text": [
      "1508.434119398986\n"
     ]
    }
   ],
   "source": [
    "kmeans = KMeans(n_init=10000,max_iter=10000).fit(S)\n",
    "print(SSE(S,kmeans))"
   ]
  },
  {
   "cell_type": "markdown",
   "metadata": {},
   "source": [
    "<h2>Question 2</h2>\n",
    "<h4> - N_init: Number of times the k-means algorithm will be run with different centroid seeds.</h4>\n",
    "<blockquote>\n",
    "    \n",
    "a) As the final results is the best output of n_init consecutive runs in terms of inertia. We expect that running the algorithm with more centroid initializations will not only improve the results, but make them more constant (the variation getting the best of 10 initializations varies more than when we get the best of 10000.)\n",
    "    \n",
    "b) If we increase the parameter by a really large number, there is a big probability that the result will improve, but we need to keep in mind that this was possible in this scenario because our dataset is small. It wouldn't be a good solution to run k-means 10000 in a large data set. If we increase by little the result won't necessarily get better.\n",
    "\n",
    "c) For n_init=100 -> SSE=1541.53624607167; for n_init=1000 -> SSE=1520.0954043453737; for n_init=10000 -> SSE=1508.434119398986; \n",
    "</blockquote>\n",
    "\n",
    "<h4> - Max_iterint: Maximum number of iterations of the k-means algorithm for a single run.</h4>\n",
    "<blockquote>\n",
    "    \n",
    "a) As we saw in class, the k-means algorithm will always converge, because the total number of possible clusters is finite, and it always decreases, so in the worst-case scenario, it will go through all possible clusters. If the algorithm always decreases, it's expected that it will return a better result if we have more iterations.\n",
    "    \n",
    "b) In practice, the results won't necessarily be better. That is because the results depend on the centroids initialization. If our initialization isn't good, we might take more steps to find a good solution, or we might not find a good solution at all (we can see in our code that increasing actually increased the SSE in one step.)\n",
    "\n",
    "c) For max_iter=1000 -> SSE=1588.271661942355; for n_init=5000 -> SSE=1562.3083917823571; for n_init=10000 -> SSE=1522.2886112987594; \n",
    "</blockquote>"
   ]
  },
  {
   "cell_type": "code",
   "execution_count": 144,
   "metadata": {},
   "outputs": [
    {
     "name": "stdout",
     "output_type": "stream",
     "text": [
      "['Intel'] \n",
      "\n",
      "['American Express', 'Boeing', 'Microsoft', 'Walt Disney', 'General Electric', 'United Technologies', 'JPMorgan Chase', '3M'] \n",
      "\n",
      "['Chevron', 'Pfizer', 'ExxonMobil'] \n",
      "\n",
      "['Bank of America'] \n",
      "\n",
      "['Kraft', 'Verizon', 'IBM', 'The Home Depot', 'Procter & Gamble', 'Wal-Mart', 'AT&T', 'Merck', 'Travelers', 'McDonalds', 'Coca-Cola', 'Johnson & Johnson'] \n",
      "\n",
      "['Cisco Systems'] \n",
      "\n",
      "['Hewlett-Packard'] \n",
      "\n",
      "['DuPont', 'Caterpillar', 'Alcoa'] \n",
      "\n"
     ]
    }
   ],
   "source": [
    "clusters=kmeans.labels_\n",
    "c=[]\n",
    "for i in range(0,max(clusters)+1):\n",
    "    c.append([])\n",
    "for i in range(0,len(clusters)):\n",
    "    c[clusters[i]].append(stocks_names[i])\n",
    "\n",
    "for i in c:\n",
    "    print(i,\"\\n\")"
   ]
  },
  {
   "cell_type": "markdown",
   "metadata": {},
   "source": [
    "<h2>Question 3</h2>\n",
    "\n",
    "<blockquote>\n",
    "    \n",
    "Cluster 1 - 'Intel': Semiconductors Stocks. Only one company.\n",
    "    \n",
    "Cluster 2 - 'American Express', 'Boeing', 'Microsoft', 'Walt Disney', 'General Electric', 'United Technologies', 'JPMorgan Chase', '3M': There are a lot of different companies in this cluster. Trying to fit most companies we could call it electrical and electronic Stocks, but Disney would better be classified as an entrainment company, and Amex and JPMorgan as financial.\n",
    "\n",
    "Cluster 3 - 'Chevron', 'Pfizer', 'ExxonMobil': Oil Stocks, although Pfizer is a pharmaceutical company.\n",
    "   \n",
    "Cluster 4 - 'Bank of America': Bank Stocks. Only one company.\n",
    "\n",
    "Cluster 5 - 'Kraft', 'Verizon', 'IBM', 'The Home Depot', 'Procter & Gamble', 'Wal-Mart', 'AT&T', 'Merck', 'Travelers', 'McDonalds', 'Coca-Cola', 'Johnson & Johnson': This cluster also has a lot of different companies. We could call it food stocks, as all the food companies in the list are in this cluster.\n",
    "\n",
    "Cluster 6 - 'Cisco Systems': Networking Stocks. Only one company.\n",
    "\n",
    "Cluster 7 - 'Hewlett-Packard': Information Technology Stocks. Only one company.\n",
    "\n",
    "Cluster 8 - 'DuPont', 'Caterpillar', 'Alcoa': Primary Industry Stocks, as we have construction and aluminum companies.\n",
    "</blockquote>"
   ]
  }
 ],
 "metadata": {
  "kernelspec": {
   "display_name": "Python 3",
   "language": "python",
   "name": "python3"
  },
  "language_info": {
   "codemirror_mode": {
    "name": "ipython",
    "version": 3
   },
   "file_extension": ".py",
   "mimetype": "text/x-python",
   "name": "python",
   "nbconvert_exporter": "python",
   "pygments_lexer": "ipython3",
   "version": "3.7.3"
  }
 },
 "nbformat": 4,
 "nbformat_minor": 2
}
